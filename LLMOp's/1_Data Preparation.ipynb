{ 
 "cells": [
  { 
   "cell_type": "markdown",
   "id": "c25470fb-da7a-4bab-b1fa-c5e54c6ab96a", 
   "metadata": {
    "tags": []
   },
   "source": [
    "# L1: Data Exploration for Tuning a Foundation Model"
   ]
  },
  {
   "cell_type": "markdown",
   "id": "9eee94e3-0a12-4616-8a5b-cd0c78f88982",
   "metadata": {
    "tags": []
   },
   "source": [
    "**Project environment setup:**\n",
    "\n",
    "- Load credentials and relevant Python Libraries\n",
    "- If you were running this notebook locally, you would first install Vertex AI. In this classroom, this is already installed.\n",
    "\n",
    "```\n",
    "!pip install google-cloud-aiplatform\n",
    "```\n",
    "- You can download the `requirements.txt` for this course from the workspace of this lab. `File --> Open...`"
   ]
  },
  {
   "cell_type": "code",
   "execution_count": 1,
   "id": "d8d58769-1fea-4c2e-8ce1-86a8489a6e41",
   "metadata": {
    "height": 47,
    "tags": []
   },
   "outputs": [],
   "source": [
    "from utils import authenticate\n",
    "credentials, PROJECT_ID = authenticate() "
   ]
  },
  {
   "cell_type": "code",
   "execution_count": 2,
   "id": "f53c0073-9723-40cd-8205-61a50729f5f6",
   "metadata": {
    "height": 30,
    "tags": []
   },
   "outputs": [],
   "source": [
    "REGION = \"us-central1\""
   ]
  },
  {
   "cell_type": "markdown",
   "id": "9985efad-4a9e-4fd0-b35e-569d17d8cf05",
   "metadata": {
    "tags": []
   },
   "source": [
    "- Import the [Vertex AI](https://cloud.google.com/vertex-ai) SDK.\n",
    "- The library helps to interact with the Vertex AI services in the cloud.\n",
    "- Initialize it. "
   ]
  },
  {
   "cell_type": "code",
   "execution_count": 3,
   "id": "cfbb69b4-7401-4f4e-9067-86e6f5684a03",
   "metadata": {
    "height": 30,
    "tags": []
   },
   "outputs": [],
   "source": [
    "import vertexai"
   ]
  },
  {
   "cell_type": "code",
   "execution_count": 4,
   "id": "7802ff08-ac5a-4252-a464-237ab2f86f5a",
   "metadata": {
    "height": 64
   },
   "outputs": [],
   "source": [
    "vertexai.init(project = PROJECT_ID,\n",
    "              location = REGION,\n",
    "              credentials = credentials)"
   ]
  },
  {
   "cell_type": "markdown",
   "id": "20ec9443-b52d-4157-8b03-44774561c375",
   "metadata": {
    "tags": []
   },
   "source": [
    "- Import [BigQuery](https://cloud.google.com/bigquery) to use as your data warehouse.\n",
    "- Initialize the client to start interacting with the data warehouse, send SQL and retrieve data into the notebook."
   ]
  },
  {
   "cell_type": "code",
   "execution_count": 5,
   "id": "e48d8307-09a5-4518-89ea-6d46cd41353f",
   "metadata": {
    "height": 30,
    "tags": []
   },
   "outputs": [],
   "source": [
    "from google.cloud import bigquery"
   ]
  },
  {
   "cell_type": "code",
   "execution_count": 6,
   "id": "a9a99c48-ce21-4628-9bf6-ec16aeea9e51",
   "metadata": {
    "height": 47
   },
   "outputs": [],
   "source": [
    "bq_client = bigquery.Client(project=PROJECT_ID,\n",
    "                            credentials = credentials)"
   ]
  },
  {
   "cell_type": "markdown",
   "id": "33cf86c4-e2e5-416f-ab57-04f53cbfa703",
   "metadata": {},
   "source": [
    "## Stack Overflow Public Dataset"
   ]
  },
  {
   "cell_type": "markdown",
   "id": "44d8c159-5b14-40f1-a657-fdd451a82ddf",
   "metadata": {},
   "source": [
    "- You will use [Stack Overflow Data](https://cloud.google.com/blog/topics/public-datasets/google-bigquery-public-datasets-now-include-stack-overflow-q-a) on BigQuery Public Datasets.\n",
    "- The datasets include questions, answers and metadata related to Stack Overflow questions. Within this dataset, there are tables with data.\n",
    "- Create a SQL query."
   ]
  },
  {
   "cell_type": "code",
   "execution_count": 7,
   "id": "27a3e57a-8bea-44bb-891d-951d33997be9",
   "metadata": {
    "height": 115
   },
   "outputs": [],
   "source": [
    "QUERY_TABLES = \"\"\"\n",
    "SELECT\n",
    "  table_name\n",
    "FROM\n",
    "  `bigquery-public-data.stackoverflow.INFORMATION_SCHEMA.TABLES`\n",
    "\"\"\""
   ]
  },
  {
   "cell_type": "markdown",
   "id": "0597e2d5-959e-475e-8434-b9da91c84739",
   "metadata": {},
   "source": [
    "- The query is asking to retrieve `table_name` of all the `TABLES`\n",
    "- Use the client to send your SQL and retrieve the data (tables names)."
   ]
  },
  {
   "cell_type": "code",
   "execution_count": 8,
   "id": "ca80b70a-c989-4448-b9bf-bafbadef0d17",
   "metadata": {
    "height": 30
   },
   "outputs": [],
   "source": [
    "query_job = bq_client.query(QUERY_TABLES)"
   ]
  },
  {
   "cell_type": "code",
   "execution_count": 9,
   "id": "9b3bccd0-7f04-4864-901b-402e505f341b",
   "metadata": {
    "height": 64
   },
   "outputs": [
    {
     "name": "stdout",
     "output_type": "stream",
     "text": [
      "posts_answers\n",
      "users\n",
      "posts_orphaned_tag_wiki\n",
      "posts_tag_wiki\n",
      "stackoverflow_posts\n",
      "posts_questions\n",
      "comments\n",
      "posts_tag_wiki_excerpt\n",
      "posts_wiki_placeholder\n",
      "posts_privilege_wiki\n",
      "post_history\n",
      "badges\n",
      "post_links\n",
      "tags\n",
      "votes\n",
      "posts_moderator_nomination\n"
     ]
    }
   ],
   "source": [
    "for row in query_job:\n",
    "    for value in row.values():\n",
    "        print(value)"
   ]
  },
  {
   "cell_type": "markdown",
   "id": "861de62b-a94d-4b59-98fc-f7f027b0b13c",
   "metadata": {},
   "source": [
    "## Data Retrieval"
   ]
  },
  {
   "cell_type": "markdown",
   "id": "a4111b8f-c9ab-4b47-9a85-3430650c375c",
   "metadata": {},
   "source": [
    "- You'll fetch some data from the data warehouse and store it in Pandas dataframe for visualization.\n",
    "- Select all columns from  `posts_questions` and put the `LIMIT` as 3."
   ]
  },
  {
   "cell_type": "code",
   "execution_count": 10,
   "id": "2ffec7eb-7ba4-472e-85ba-39fce6ab706f",
   "metadata": {
    "height": 132
   },
   "outputs": [],
   "source": [
    "INSPECT_QUERY = \"\"\"\n",
    "SELECT\n",
    "    *\n",
    "FROM\n",
    "    `bigquery-public-data.stackoverflow.posts_questions`\n",
    "LIMIT 3\n",
    "\"\"\""
   ]
  },
  {
   "cell_type": "code",
   "execution_count": 11,
   "id": "ccbe4aca-8d5b-4e3f-8edd-41e32fca49bf",
   "metadata": {
    "height": 30,
    "tags": []
   },
   "outputs": [],
   "source": [
    "import pandas as pd"
   ]
  },
  {
   "cell_type": "code",
   "execution_count": 12,
   "id": "94d974a6-d922-46ca-89fb-c29abbed0128",
   "metadata": {
    "height": 30,
    "tags": []
   },
   "outputs": [],
   "source": [
    "query_job = bq_client.query(INSPECT_QUERY)"
   ]
  },
  {
   "cell_type": "markdown",
   "id": "d6bd733b-e0d9-452c-a2d9-ad4072e51c78",
   "metadata": {
    "tags": []
   },
   "source": [
    "- Take the results of the query `-->` create an arrow table (which is part of [Apache Framework](https://arrow.apache.org/docs/index.html)) `-->` which goes into a Pandas dataframe.\n",
    "- This allows for data to be in a format which is easier to read and explore with Pandas."
   ]
  },
  {
   "cell_type": "code",
   "execution_count": 13,
   "id": "491d400f-a9a4-45bf-92f7-666e2ca6bda4",
   "metadata": {
    "height": 98,
    "tags": []
   },
   "outputs": [
    {
     "data": {
      "text/html": [
       "<div>\n",
       "<style scoped>\n",
       "    .dataframe tbody tr th:only-of-type {\n",
       "        vertical-align: middle;\n",
       "    }\n",
       "\n",
       "    .dataframe tbody tr th {\n",
       "        vertical-align: top;\n",
       "    }\n",
       "\n",
       "    .dataframe thead th {\n",
       "        text-align: right;\n",
       "    }\n",
       "</style>\n",
       "<table border=\"1\" class=\"dataframe\">\n",
       "  <thead>\n",
       "    <tr style=\"text-align: right;\">\n",
       "      <th></th>\n",
       "      <th>id</th>\n",
       "      <th>title</th>\n",
       "      <th>body</th>\n",
       "      <th>accepted_answer_id</th>\n",
       "      <th>answer_count</th>\n",
       "      <th>comment_count</th>\n",
       "      <th>community_owned_date</th>\n",
       "      <th>creation_date</th>\n",
       "      <th>favorite_count</th>\n",
       "      <th>last_activity_date</th>\n",
       "      <th>last_edit_date</th>\n",
       "      <th>last_editor_display_name</th>\n",
       "      <th>last_editor_user_id</th>\n",
       "      <th>owner_display_name</th>\n",
       "      <th>owner_user_id</th>\n",
       "      <th>parent_id</th>\n",
       "      <th>post_type_id</th>\n",
       "      <th>score</th>\n",
       "      <th>tags</th>\n",
       "      <th>view_count</th>\n",
       "    </tr>\n",
       "  </thead>\n",
       "  <tbody>\n",
       "    <tr>\n",
       "      <th>0</th>\n",
       "      <td>3227205</td>\n",
       "      <td>how to send more than three variables by using...</td>\n",
       "      <td>&lt;p&gt;how can i send 3 text box,1 select button v...</td>\n",
       "      <td>NaN</td>\n",
       "      <td>0</td>\n",
       "      <td>0</td>\n",
       "      <td>None</td>\n",
       "      <td>2010-07-12T09:24:01.383Z</td>\n",
       "      <td>0</td>\n",
       "      <td>2010-07-12T09:52:52.373Z</td>\n",
       "      <td>2010-07-12T09:25:48.027Z</td>\n",
       "      <td>None</td>\n",
       "      <td>47738.0</td>\n",
       "      <td>None</td>\n",
       "      <td>386361</td>\n",
       "      <td>None</td>\n",
       "      <td>1</td>\n",
       "      <td>0</td>\n",
       "      <td>html</td>\n",
       "      <td>116</td>\n",
       "    </tr>\n",
       "    <tr>\n",
       "      <th>1</th>\n",
       "      <td>3232809</td>\n",
       "      <td>bitshift equivalent of math.round</td>\n",
       "      <td>&lt;p&gt;(Math.round(var/var1)*var1)&lt;/p&gt;\\n\\n&lt;p&gt;What ...</td>\n",
       "      <td>NaN</td>\n",
       "      <td>0</td>\n",
       "      <td>0</td>\n",
       "      <td>None</td>\n",
       "      <td>2010-07-12T22:34:26.247Z</td>\n",
       "      <td>0</td>\n",
       "      <td>2010-07-13T00:00:32.173Z</td>\n",
       "      <td>2010-07-13T00:00:32.173Z</td>\n",
       "      <td>None</td>\n",
       "      <td>354992.0</td>\n",
       "      <td>None</td>\n",
       "      <td>354992</td>\n",
       "      <td>None</td>\n",
       "      <td>1</td>\n",
       "      <td>0</td>\n",
       "      <td>javascript</td>\n",
       "      <td>193</td>\n",
       "    </tr>\n",
       "    <tr>\n",
       "      <th>2</th>\n",
       "      <td>3233785</td>\n",
       "      <td>Recurrence Relation: Finding Big O</td>\n",
       "      <td>&lt;p&gt;I'm trying to find Big O of this recurrence...</td>\n",
       "      <td>3233913.0</td>\n",
       "      <td>0</td>\n",
       "      <td>0</td>\n",
       "      <td>None</td>\n",
       "      <td>2010-07-13T02:28:59.343Z</td>\n",
       "      <td>0</td>\n",
       "      <td>2010-07-13T03:38:48.777Z</td>\n",
       "      <td>None</td>\n",
       "      <td>None</td>\n",
       "      <td>NaN</td>\n",
       "      <td>None</td>\n",
       "      <td>388991</td>\n",
       "      <td>None</td>\n",
       "      <td>1</td>\n",
       "      <td>0</td>\n",
       "      <td>big-o|recurrence</td>\n",
       "      <td>528</td>\n",
       "    </tr>\n",
       "  </tbody>\n",
       "</table>\n",
       "</div>"
      ],
      "text/plain": [
       "        id                                              title  \\\n",
       "0  3227205  how to send more than three variables by using...   \n",
       "1  3232809                  bitshift equivalent of math.round   \n",
       "2  3233785                 Recurrence Relation: Finding Big O   \n",
       "\n",
       "                                                body  accepted_answer_id  \\\n",
       "0  <p>how can i send 3 text box,1 select button v...                 NaN   \n",
       "1  <p>(Math.round(var/var1)*var1)</p>\\n\\n<p>What ...                 NaN   \n",
       "2  <p>I'm trying to find Big O of this recurrence...           3233913.0   \n",
       "\n",
       "   answer_count  comment_count community_owned_date             creation_date  \\\n",
       "0             0              0                 None  2010-07-12T09:24:01.383Z   \n",
       "1             0              0                 None  2010-07-12T22:34:26.247Z   \n",
       "2             0              0                 None  2010-07-13T02:28:59.343Z   \n",
       "\n",
       "   favorite_count        last_activity_date            last_edit_date  \\\n",
       "0               0  2010-07-12T09:52:52.373Z  2010-07-12T09:25:48.027Z   \n",
       "1               0  2010-07-13T00:00:32.173Z  2010-07-13T00:00:32.173Z   \n",
       "2               0  2010-07-13T03:38:48.777Z                      None   \n",
       "\n",
       "  last_editor_display_name  last_editor_user_id owner_display_name  \\\n",
       "0                     None              47738.0               None   \n",
       "1                     None             354992.0               None   \n",
       "2                     None                  NaN               None   \n",
       "\n",
       "   owner_user_id parent_id  post_type_id  score              tags  view_count  \n",
       "0         386361      None             1      0              html         116  \n",
       "1         354992      None             1      0        javascript         193  \n",
       "2         388991      None             1      0  big-o|recurrence         528  "
      ]
     },
     "execution_count": 13,
     "metadata": {},
     "output_type": "execute_result"
    }
   ],
   "source": [
    "stack_overflow_df = query_job\\\n",
    "    .result()\\\n",
    "    .to_arrow()\\\n",
    "    .to_pandas()\n",
    "stack_overflow_df.head()"
   ]
  },
  {
   "cell_type": "markdown",
   "id": "59d1fac8-8e5e-4986-ae30-9e374ff5078b",
   "metadata": {},
   "source": [
    "### Dealing with Large Datasets\n",
    "\n",
    "- Large datasets for LLMs often don't fit into memory.\n",
    "- Select all of the columns and rows of the table `posts_questions`."
   ]
  },
  {
   "cell_type": "code",
   "execution_count": 14,
   "id": "863e9ce6-206b-4032-8eb8-9e6204d8b158",
   "metadata": {
    "height": 115,
    "tags": []
   },
   "outputs": [],
   "source": [
    "QUERY_ALL = \"\"\"\n",
    "SELECT\n",
    "    *\n",
    "FROM\n",
    "    `bigquery-public-data.stackoverflow.posts_questions` q\n",
    "\"\"\""
   ]
  },
  {
   "cell_type": "code",
   "execution_count": 15,
   "id": "632b3e00-5014-48f3-860c-895ed7b1e263",
   "metadata": {
    "height": 30,
    "tags": []
   },
   "outputs": [],
   "source": [
    "query_job = bq_client.query(QUERY_ALL)"
   ]
  },
  {
   "cell_type": "code",
   "execution_count": 16,
   "id": "ca55b26f-1e9c-46f2-933b-0d2e85269948",
   "metadata": {
    "height": 132,
    "tags": []
   },
   "outputs": [
    {
     "name": "stdout",
     "output_type": "stream",
     "text": [
      "The DataFrame is too large to load into memory. 403 Response too large to return. Consider specifying a destination table in your job configuration. For more details, see https://cloud.google.com/bigquery/troubleshooting-errors\n",
      "\n",
      "Location: US\n",
      "Job ID: b1f4713b-d888-4ffb-91be-56fcddb7b3a5\n",
      "\n"
     ]
    }
   ],
   "source": [
    "try:\n",
    "    stack_overflow_df = query_job\\\n",
    "    .result()\\\n",
    "    .to_arrow()\\\n",
    "    .to_pandas()\n",
    "except Exception as e:\n",
    "    print('The DataFrame is too large to load into memory.', e)"
   ]
  },
  {
   "cell_type": "markdown",
   "id": "9999ff41-e115-4491-84c3-9d7f04fafd85",
   "metadata": {
    "tags": []
   },
   "source": [
    "**Note:** The data is too large to return, as it is not fitting into memory."
   ]
  },
  {
   "cell_type": "markdown",
   "id": "d406553f-c356-4dc8-a119-7d8f02787d4b",
   "metadata": {},
   "source": [
    "#### Joining Tables and Query Optimization\n",
    "\n",
    "- When working with (large) data, query optimizing is needed in order to save time and resources.\n",
    "- Select questions as `input_text` (column 1), answers as `output_text` (column 2).\n",
    "- Take the questions from `posts_questions` and answers from `posts_answers`.\n",
    "- Join the questions and their corresponding accepted answers based on their same `unique ID`.\n",
    "- Making sure the question is about `Python`, and that it `has an answer`. And the date the question was posted is on or after `2020-01-01`\n",
    "- Limit as 10,000"
   ]
  },
  {
   "cell_type": "code",
   "execution_count": 17,
   "id": "71dc0eb0-ca3d-4d29-ae7e-f3b40cab9184",
   "metadata": {
    "height": 302,
    "tags": []
   },
   "outputs": [],
   "source": [
    "QUERY = \"\"\"\n",
    "SELECT\n",
    "    CONCAT(q.title, q.body) as input_text,\n",
    "    a.body AS output_text\n",
    "FROM\n",
    "    `bigquery-public-data.stackoverflow.posts_questions` q\n",
    "JOIN\n",
    "    `bigquery-public-data.stackoverflow.posts_answers` a\n",
    "ON\n",
    "    q.accepted_answer_id = a.id\n",
    "WHERE\n",
    "    q.accepted_answer_id IS NOT NULL AND\n",
    "    REGEXP_CONTAINS(q.tags, \"python\") AND\n",
    "    a.creation_date >= \"2020-01-01\"\n",
    "LIMIT\n",
    "    10000\n",
    "\"\"\""
   ]
  },
  {
   "cell_type": "code",
   "execution_count": 18,
   "id": "8affe03b-6be6-4be0-ad09-703f47dc31b9",
   "metadata": {
    "height": 30,
    "tags": []
   },
   "outputs": [],
   "source": [
    "query_job = bq_client.query(QUERY)"
   ]
  },
  {
   "cell_type": "code",
   "execution_count": 19,
   "id": "d23c0df2-2365-4a49-9dee-f49c800312dd",
   "metadata": {
    "height": 115,
    "tags": []
   },
   "outputs": [
    {
     "data": {
      "text/html": [
       "<div>\n",
       "<style scoped>\n",
       "    .dataframe tbody tr th:only-of-type {\n",
       "        vertical-align: middle;\n",
       "    }\n",
       "\n",
       "    .dataframe tbody tr th {\n",
       "        vertical-align: top;\n",
       "    }\n",
       "\n",
       "    .dataframe thead th {\n",
       "        text-align: right;\n",
       "    }\n",
       "</style>\n",
       "<table border=\"1\" class=\"dataframe\">\n",
       "  <thead>\n",
       "    <tr style=\"text-align: right;\">\n",
       "      <th></th>\n",
       "      <th>input_text</th>\n",
       "      <th>output_text</th>\n",
       "    </tr>\n",
       "  </thead>\n",
       "  <tbody>\n",
       "    <tr>\n",
       "      <th>0</th>\n",
       "      <td>How can I force the use of a local package for...</td>\n",
       "      <td>&lt;p&gt;Module lookup occurs based on your module s...</td>\n",
       "    </tr>\n",
       "    <tr>\n",
       "      <th>1</th>\n",
       "      <td>How to save pandas textmanipulation as csv in ...</td>\n",
       "      <td>&lt;p&gt;The output is expected. As you manually add...</td>\n",
       "    </tr>\n",
       "  </tbody>\n",
       "</table>\n",
       "</div>"
      ],
      "text/plain": [
       "                                          input_text  \\\n",
       "0  How can I force the use of a local package for...   \n",
       "1  How to save pandas textmanipulation as csv in ...   \n",
       "\n",
       "                                         output_text  \n",
       "0  <p>Module lookup occurs based on your module s...  \n",
       "1  <p>The output is expected. As you manually add...  "
      ]
     },
     "execution_count": 19,
     "metadata": {},
     "output_type": "execute_result"
    }
   ],
   "source": [
    "### this may take some seconds to run\n",
    "stack_overflow_df = query_job.result()\\\n",
    "                        .to_arrow()\\\n",
    "                        .to_pandas()\n",
    "\n",
    "stack_overflow_df.head(2)"
   ]
  },
  {
   "cell_type": "markdown",
   "id": "05bdc676-a15d-4d28-a95c-7b451c6427b7",
   "metadata": {
    "tags": []
   },
   "source": [
    "### Adding Instructions\n",
    "\n",
    "- Instructions for LLMs have been shown to improve\n",
    "model performance and generalization to unseen tasks [(Google, 2022)](https://arxiv.org/pdf/2210.11416.pdf).\n",
    "- Wihtout the instruction, it is only question and answer. Model might not understand what to do.\n",
    "- With the instructions, the model gets a guideline as to what task to perform."
   ]
  },
  {
   "cell_type": "code",
   "execution_count": 20,
   "id": "66208ed7-7325-4613-8b57-fedfa9c85aef",
   "metadata": {
    "height": 115,
    "tags": []
   },
   "outputs": [],
   "source": [
    "INSTRUCTION_TEMPLATE = f\"\"\"\\\n",
    "Please answer the following Stackoverflow question on Python. \\\n",
    "Answer it like you are a developer answering Stackoverflow questions.\n",
    "\n",
    "Stackoverflow question:\n",
    "\"\"\""
   ]
  },
  {
   "cell_type": "markdown",
   "id": "645069aa-7e45-4fa3-91e4-665b9f7c17a4",
   "metadata": {
    "tags": []
   },
   "source": [
    "- A new column will combine `INSTRUCTION_TEMPLATE` and the question `input_text`.\n",
    "- This avoids overwritting of any existing column which might be needed."
   ]
  },
  {
   "cell_type": "code",
   "execution_count": 21,
   "id": "ed30a78b-6b4a-4b07-b66f-b5147e6ec062",
   "metadata": {
    "height": 47,
    "tags": []
   },
   "outputs": [],
   "source": [
    "stack_overflow_df['input_text_instruct'] = INSTRUCTION_TEMPLATE + ' '\\\n",
    "    + stack_overflow_df['input_text']"
   ]
  },
  {
   "cell_type": "markdown",
   "id": "007f22f9-cb41-4035-842e-bd6b27c01bf4",
   "metadata": {},
   "source": [
    "### Dataset for Tuning\n",
    "\n",
    "- Divide the data into a training and evaluation. By default, 80/20 split is used.\n",
    "- This (80/20 split) allows for more data to be used for tuning. The evaluation split is used as unseen data during tuning to evaluate performance.\n",
    "- The `random_state` parameter is used to ensure random sampling for a fair comparison. "
   ]
  },
  {
   "cell_type": "code",
   "execution_count": 22,
   "id": "7dc2940f-735a-4fe0-b579-b8e63d161d57",
   "metadata": {
    "height": 30
   },
   "outputs": [],
   "source": [
    "from sklearn.model_selection import train_test_split"
   ]
  },
  {
   "cell_type": "code",
   "execution_count": 23,
   "id": "b6c97888-7eb8-49f0-b3e7-2a417d931b49",
   "metadata": {
    "height": 132
   },
   "outputs": [],
   "source": [
    "train, evaluation = train_test_split(\n",
    "    stack_overflow_df,\n",
    "    ### test_size=0.2 means 20% for evaluation\n",
    "    ### which then makes train set to be of 80%\n",
    "    test_size=0.2,\n",
    "    random_state=42\n",
    ")"
   ]
  },
  {
   "cell_type": "markdown",
   "id": "1cb841d8-e71a-464c-8cb3-3c712a16dc6a",
   "metadata": {},
   "source": [
    "#### Different Datasets and Flow\n",
    "\n",
    "- Versioning data is important.\n",
    "- It allows for reproducibility, traceability, and maintainability of machine learning models.\n",
    "- Get the timestamp."
   ]
  },
  {
   "cell_type": "code",
   "execution_count": 24,
   "id": "f0b0f876-10bf-4dbf-ae0f-1f90d62cb72c",
   "metadata": {
    "height": 30
   },
   "outputs": [],
   "source": [
    "import datetime"
   ]
  },
  {
   "cell_type": "code",
   "execution_count": 25,
   "id": "cf919020-de23-4e02-895f-3cf22fe75f91",
   "metadata": {
    "height": 30
   },
   "outputs": [],
   "source": [
    "date = datetime.datetime.now().strftime(\"%H:%d:%m:%Y\")"
   ]
  },
  {
   "cell_type": "markdown",
   "id": "5989a1ea-1bdb-4e43-a4c1-fec76812c26d",
   "metadata": {},
   "source": [
    "- Generate a `jsonl` file.\n",
    "- Name it as `tune_data_stack_overflow_python_qa-{date}`"
   ]
  },
  {
   "cell_type": "code",
   "execution_count": 26,
   "id": "7427ff3f-6f3a-4053-982c-3aa1fcfb656a",
   "metadata": {
    "height": 47
   },
   "outputs": [],
   "source": [
    "cols = ['input_text_instruct','output_text']\n",
    "tune_jsonl = train[cols].to_json(orient=\"records\", lines=True)"
   ]
  },
  {
   "cell_type": "code",
   "execution_count": 27,
   "id": "6727f808-a216-45e3-8073-4545e23c796d",
   "metadata": {
    "height": 47
   },
   "outputs": [],
   "source": [
    "training_data_filename = f\"tune_data_stack_overflow_\\\n",
    "                            python_qa-{date}.jsonl\""
   ]
  },
  {
   "cell_type": "code",
   "execution_count": 28,
   "id": "7f639359-f873-404f-9fd7-bf88db8c52a0",
   "metadata": {
    "height": 47,
    "tags": []
   },
   "outputs": [],
   "source": [
    "with open(training_data_filename, \"w\") as f:\n",
    "    f.write(tune_jsonl)"
   ]
  }
 ],
 "metadata": {
  "environment": {
   "kernel": "python3",
   "name": "tf2-cpu.2-11.m113",
   "type": "gcloud",
   "uri": "gcr.io/deeplearning-platform-release/tf2-cpu.2-11:m113"
  },
  "kernelspec": {
   "display_name": "Python 3 (ipykernel)",
   "language": "python",
   "name": "python3"
  },
  "language_info": {
   "codemirror_mode": {
    "name": "ipython",
    "version": 3
   },
   "file_extension": ".py",
   "mimetype": "text/x-python",
   "name": "python",
   "nbconvert_exporter": "python",
   "pygments_lexer": "ipython3",
   "version": "3.10.14"
  }
 },
 "nbformat": 4,
 "nbformat_minor": 5
}
